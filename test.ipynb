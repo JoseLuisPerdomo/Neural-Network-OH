{
 "cells": [
  {
   "cell_type": "code",
   "execution_count": 19,
   "id": "initial_id",
   "metadata": {
    "collapsed": true,
    "ExecuteTime": {
     "end_time": "2025-01-08T12:38:00.818330Z",
     "start_time": "2025-01-08T12:38:00.810330Z"
    }
   },
   "outputs": [
    {
     "name": "stdout",
     "output_type": "stream",
     "text": [
      "Weights_size: (2, 2)\n",
      "Bias: (2, 2)\n",
      "Input_size: (4, 2, 1)\n",
      "Weights_size: (2, 2)\n",
      "Weights_size: (1, 2, 2)\n",
      "Weights_size: (4, 2, 2)\n"
     ]
    },
    {
     "data": {
      "text/plain": "array([[[7],\n        [5]],\n\n       [[7],\n        [5]],\n\n       [[7],\n        [5]],\n\n       [[7],\n        [5]]])"
     },
     "execution_count": 19,
     "metadata": {},
     "output_type": "execute_result"
    }
   ],
   "source": [
    "import numpy as np\n",
    "\n",
    "def forward_with_batches(weights, inputs, bias):\n",
    "    batch_size = inputs.shape[0]\n",
    "    _, input_size = weights.shape\n",
    "    \n",
    "    print(f\"Weights_size: {weights.shape}\")\n",
    "\n",
    "    expanded_weights = np.expand_dims(weights, axis=0)\n",
    "\n",
    "    print(f\"Weights_size: {expanded_weights.shape}\")\n",
    "    expanded_weights = np.repeat(expanded_weights, batch_size, axis=0)\n",
    "\n",
    "    print(f\"Weights_size: {expanded_weights.shape}\")\n",
    "    \n",
    "    expanded_bias = np.expand_dims(bias, axis=0)\n",
    "    expanded_bias = np.repeat(expanded_bias, batch_size, axis=0)\n",
    "\n",
    "    output = np.matmul(expanded_weights, inputs)\n",
    "\n",
    "    output += expanded_bias\n",
    "\n",
    "    return output\n",
    "\n",
    "weights = np.array([[2, 4], [1, 3]])\n",
    "bias = np.array([[1], [1]])\n",
    "input = np.array([[[1], [1]], [[1], [1]], [[1], [1]], [[1], [1]]])\n",
    "\n",
    "print(f\"Weights_size: {weights.shape}\")\n",
    "print(f\"Bias: {weights.shape}\")\n",
    "print(f\"Input_size: {input.shape}\")\n",
    "\n",
    "forward_with_batches(weights, input, bias)\n"
   ]
  }
 ],
 "metadata": {
  "kernelspec": {
   "display_name": "Python 3",
   "language": "python",
   "name": "python3"
  },
  "language_info": {
   "codemirror_mode": {
    "name": "ipython",
    "version": 2
   },
   "file_extension": ".py",
   "mimetype": "text/x-python",
   "name": "python",
   "nbconvert_exporter": "python",
   "pygments_lexer": "ipython2",
   "version": "2.7.6"
  }
 },
 "nbformat": 4,
 "nbformat_minor": 5
}
