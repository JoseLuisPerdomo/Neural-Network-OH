{
 "cells": [
  {
   "cell_type": "markdown",
   "source": [
    "# Iris\n",
    "\n",
    "El problema de clasificación Iris es un clásico en el ámbito del aprendizaje automático y se utiliza comúnmente como un ejemplo para ilustrar técnicas de clasificación. Este conjunto de datos contiene tres especies de flores Iris (Iris setosa, Iris versicolor e Iris virgínica), con un total de 150 muestras. Cada muestra está definida por cuatro características: longitud del sépalo, ancho del sépalo, longitud del pétalo y ancho del pétalo.\n",
    "\n",
    "Los valores de los hiperparámetros con los que obtuve los resultados son:\n",
    "- Optimizador: Adagrad\n",
    "- Learning rate: 0.03\n",
    "- Epochs :  1000\n",
    "- Función de Activación : LeakyRelu\n",
    "- Capas de la Red : 3\n",
    "- Neuronas de cada capa : 4, 10 y 3"
   ],
   "metadata": {
    "collapsed": false
   },
   "id": "ffe7d8de96f163ad"
  },
  {
   "cell_type": "code",
   "outputs": [],
   "source": [
    "import numpy as np\n",
    "import pandas as pd\n",
    "from main.neural_network import train, test_nn, create_nn\n",
    "from main.nn_components.activations_functions import Relu, Tanh, LeakyRelu, Sigmoid\n",
    "from main.nn_components.optimazers import SGD, Adam, RMSProp, Adagrad, Momentum\n",
    "from main.nn_components.loss_functions import CrossEntropyLoss\n",
    "from sklearn.model_selection import train_test_split\n",
    "from main.nn_components.graphic_regression import learning_curve\n",
    "from sklearn.datasets import load_iris\n",
    "from keras.utils import to_categorical\n",
    "from main.nn_components.graphic_classification import display_confusion_matrix"
   ],
   "metadata": {
    "collapsed": false,
    "ExecuteTime": {
     "end_time": "2025-01-08T13:02:30.273862Z",
     "start_time": "2025-01-08T13:02:27.786616Z"
    }
   },
   "id": "bef50b85d74b9e22",
   "execution_count": 1
  },
  {
   "cell_type": "code",
   "outputs": [
    {
     "data": {
      "text/plain": "<pandas.io.formats.style.Styler at 0x17878cd2f90>",
      "text/html": "<style type=\"text/css\">\n#T_64f21 th {\n  font-size: 12pt;\n  text-align: center;\n}\n#T_64f21 td {\n  font-size: 10pt;\n  text-align: center;\n}\n</style>\n<table id=\"T_64f21\" style=\"width:70%\">\n  <caption>Primeras 10 muestras</caption>\n  <thead>\n    <tr>\n      <th class=\"blank level0\" >&nbsp;</th>\n      <th id=\"T_64f21_level0_col0\" class=\"col_heading level0 col0\" >Feature1</th>\n      <th id=\"T_64f21_level0_col1\" class=\"col_heading level0 col1\" >Feature2</th>\n      <th id=\"T_64f21_level0_col2\" class=\"col_heading level0 col2\" >Feature3</th>\n      <th id=\"T_64f21_level0_col3\" class=\"col_heading level0 col3\" >Feature4</th>\n      <th id=\"T_64f21_level0_col4\" class=\"col_heading level0 col4\" >Class</th>\n    </tr>\n  </thead>\n  <tbody>\n    <tr>\n      <th id=\"T_64f21_level0_row0\" class=\"row_heading level0 row0\" >0</th>\n      <td id=\"T_64f21_row0_col0\" class=\"data row0 col0\" >4.700000</td>\n      <td id=\"T_64f21_row0_col1\" class=\"data row0 col1\" >3.200000</td>\n      <td id=\"T_64f21_row0_col2\" class=\"data row0 col2\" >1.600000</td>\n      <td id=\"T_64f21_row0_col3\" class=\"data row0 col3\" >0.200000</td>\n      <td id=\"T_64f21_row0_col4\" class=\"data row0 col4\" >0</td>\n    </tr>\n    <tr>\n      <th id=\"T_64f21_level0_row1\" class=\"row_heading level0 row1\" >1</th>\n      <td id=\"T_64f21_row1_col0\" class=\"data row1 col0\" >6.100000</td>\n      <td id=\"T_64f21_row1_col1\" class=\"data row1 col1\" >3.000000</td>\n      <td id=\"T_64f21_row1_col2\" class=\"data row1 col2\" >4.900000</td>\n      <td id=\"T_64f21_row1_col3\" class=\"data row1 col3\" >1.800000</td>\n      <td id=\"T_64f21_row1_col4\" class=\"data row1 col4\" >2</td>\n    </tr>\n    <tr>\n      <th id=\"T_64f21_level0_row2\" class=\"row_heading level0 row2\" >2</th>\n      <td id=\"T_64f21_row2_col0\" class=\"data row2 col0\" >5.500000</td>\n      <td id=\"T_64f21_row2_col1\" class=\"data row2 col1\" >3.500000</td>\n      <td id=\"T_64f21_row2_col2\" class=\"data row2 col2\" >1.300000</td>\n      <td id=\"T_64f21_row2_col3\" class=\"data row2 col3\" >0.200000</td>\n      <td id=\"T_64f21_row2_col4\" class=\"data row2 col4\" >0</td>\n    </tr>\n    <tr>\n      <th id=\"T_64f21_level0_row3\" class=\"row_heading level0 row3\" >3</th>\n      <td id=\"T_64f21_row3_col0\" class=\"data row3 col0\" >6.800000</td>\n      <td id=\"T_64f21_row3_col1\" class=\"data row3 col1\" >3.000000</td>\n      <td id=\"T_64f21_row3_col2\" class=\"data row3 col2\" >5.500000</td>\n      <td id=\"T_64f21_row3_col3\" class=\"data row3 col3\" >2.100000</td>\n      <td id=\"T_64f21_row3_col4\" class=\"data row3 col4\" >2</td>\n    </tr>\n    <tr>\n      <th id=\"T_64f21_level0_row4\" class=\"row_heading level0 row4\" >4</th>\n      <td id=\"T_64f21_row4_col0\" class=\"data row4 col0\" >4.900000</td>\n      <td id=\"T_64f21_row4_col1\" class=\"data row4 col1\" >3.000000</td>\n      <td id=\"T_64f21_row4_col2\" class=\"data row4 col2\" >1.400000</td>\n      <td id=\"T_64f21_row4_col3\" class=\"data row4 col3\" >0.200000</td>\n      <td id=\"T_64f21_row4_col4\" class=\"data row4 col4\" >0</td>\n    </tr>\n    <tr>\n      <th id=\"T_64f21_level0_row5\" class=\"row_heading level0 row5\" >5</th>\n      <td id=\"T_64f21_row5_col0\" class=\"data row5 col0\" >6.100000</td>\n      <td id=\"T_64f21_row5_col1\" class=\"data row5 col1\" >2.600000</td>\n      <td id=\"T_64f21_row5_col2\" class=\"data row5 col2\" >5.600000</td>\n      <td id=\"T_64f21_row5_col3\" class=\"data row5 col3\" >1.400000</td>\n      <td id=\"T_64f21_row5_col4\" class=\"data row5 col4\" >2</td>\n    </tr>\n    <tr>\n      <th id=\"T_64f21_level0_row6\" class=\"row_heading level0 row6\" >6</th>\n      <td id=\"T_64f21_row6_col0\" class=\"data row6 col0\" >5.800000</td>\n      <td id=\"T_64f21_row6_col1\" class=\"data row6 col1\" >2.700000</td>\n      <td id=\"T_64f21_row6_col2\" class=\"data row6 col2\" >4.100000</td>\n      <td id=\"T_64f21_row6_col3\" class=\"data row6 col3\" >1.000000</td>\n      <td id=\"T_64f21_row6_col4\" class=\"data row6 col4\" >1</td>\n    </tr>\n    <tr>\n      <th id=\"T_64f21_level0_row7\" class=\"row_heading level0 row7\" >7</th>\n      <td id=\"T_64f21_row7_col0\" class=\"data row7 col0\" >5.000000</td>\n      <td id=\"T_64f21_row7_col1\" class=\"data row7 col1\" >2.000000</td>\n      <td id=\"T_64f21_row7_col2\" class=\"data row7 col2\" >3.500000</td>\n      <td id=\"T_64f21_row7_col3\" class=\"data row7 col3\" >1.000000</td>\n      <td id=\"T_64f21_row7_col4\" class=\"data row7 col4\" >1</td>\n    </tr>\n    <tr>\n      <th id=\"T_64f21_level0_row8\" class=\"row_heading level0 row8\" >8</th>\n      <td id=\"T_64f21_row8_col0\" class=\"data row8 col0\" >7.700000</td>\n      <td id=\"T_64f21_row8_col1\" class=\"data row8 col1\" >3.000000</td>\n      <td id=\"T_64f21_row8_col2\" class=\"data row8 col2\" >6.100000</td>\n      <td id=\"T_64f21_row8_col3\" class=\"data row8 col3\" >2.300000</td>\n      <td id=\"T_64f21_row8_col4\" class=\"data row8 col4\" >2</td>\n    </tr>\n    <tr>\n      <th id=\"T_64f21_level0_row9\" class=\"row_heading level0 row9\" >9</th>\n      <td id=\"T_64f21_row9_col0\" class=\"data row9 col0\" >6.300000</td>\n      <td id=\"T_64f21_row9_col1\" class=\"data row9 col1\" >2.300000</td>\n      <td id=\"T_64f21_row9_col2\" class=\"data row9 col2\" >4.400000</td>\n      <td id=\"T_64f21_row9_col3\" class=\"data row9 col3\" >1.300000</td>\n      <td id=\"T_64f21_row9_col4\" class=\"data row9 col4\" >1</td>\n    </tr>\n  </tbody>\n</table>\n"
     },
     "metadata": {},
     "output_type": "display_data"
    },
    {
     "name": "stdout",
     "output_type": "stream",
     "text": [
      "--------------------------------------------------\n",
      "Class\n",
      "1    38\n",
      "0    37\n",
      "2    37\n",
      "Name: count, dtype: int64\n"
     ]
    }
   ],
   "source": [
    "X, y = load_iris(return_X_y=True, as_frame=False)\n",
    "X_train, X_test, y_train, y_test = train_test_split(X, y)\n",
    "\n",
    "y_train = to_categorical(y_train, num_classes=3)\n",
    "y_test = to_categorical(y_test, num_classes=3)\n",
    "\n",
    "\n",
    "X_train = np.reshape(X_train, (112, 4, 1))\n",
    "X_test = np.reshape(X_test, (38, 4, 1))\n",
    "\n",
    "y_train = np.reshape(y_train, (112, 3, 1))\n",
    "y_test = np.reshape(y_test, (38, 3, 1))\n",
    "\n",
    "sample_df = pd.DataFrame(X_train[:, :, 0], columns=['Feature1', 'Feature2', 'Feature3', 'Feature4'])\n",
    "sample_df['Class'] = np.argmax(y_train[:, :, 0], axis=1)\n",
    "\n",
    "class_counts = sample_df['Class'].value_counts()\n",
    "styled_table = sample_df.head(10).style.set_table_attributes('style=\"width:70%\"').set_caption(\"Primeras 10 muestras\")\n",
    "styled_table = styled_table.set_table_styles([{\n",
    "    'selector': 'th',\n",
    "    'props': [('font-size', '12pt'), ('text-align', 'center')]\n",
    "}, {\n",
    "    'selector': 'td',\n",
    "    'props': [('font-size', '10pt'), ('text-align', 'center')]\n",
    "}])\n",
    "\n",
    "display(styled_table)\n",
    "print(\"--------------------------------------------------\")\n",
    "print(class_counts)"
   ],
   "metadata": {
    "collapsed": false,
    "ExecuteTime": {
     "end_time": "2025-01-08T13:02:30.321189Z",
     "start_time": "2025-01-08T13:02:30.274875Z"
    }
   },
   "id": "cf771182f61507f8",
   "execution_count": 2
  },
  {
   "cell_type": "code",
   "outputs": [
    {
     "name": "stdout",
     "output_type": "stream",
     "text": [
      "Expanded_weights: (12, 5, 4) with Input shape: (12, 4, 1)\n",
      "Output (input * weights): (12, 5, 1)\n",
      "Output + bias: (12, 5, 1)\n",
      "Expanded_weights: (12, 6, 5) with Input shape: (12, 5, 1)\n",
      "Output (input * weights): (12, 6, 1)\n",
      "Output + bias: (12, 6, 1)\n",
      "Expanded_weights: (12, 3, 6) with Input shape: (12, 6, 1)\n",
      "Output (input * weights): (12, 3, 1)\n",
      "Output + bias: (12, 3, 1)\n",
      "Y prediction SHAPE: (12, 3, 1)\n",
      "y_true shape: (12, 3, 1), y_pred shape: (12, 3, 1)\n",
      "y_true shape: (12, 3, 1), y_pred shape: (12, 3, 1)\n",
      "Gradient Loss Shape: (12, 3, 1)\n",
      "Output gradient Shape: (12, 3, 1)\n",
      "Input Shape: (1, 6, 12)\n"
     ]
    },
    {
     "ename": "ValueError",
     "evalue": "matmul: Input operand 1 has a mismatch in its core dimension 0, with gufunc signature (n?,k),(k,m?)->(n?,m?) (size 6 is different from 1)",
     "output_type": "error",
     "traceback": [
      "\u001B[1;31m---------------------------------------------------------------------------\u001B[0m",
      "\u001B[1;31mValueError\u001B[0m                                Traceback (most recent call last)",
      "Cell \u001B[1;32mIn[3], line 12\u001B[0m\n\u001B[0;32m      9\u001B[0m loss \u001B[38;5;241m=\u001B[39m CrossEntropyLoss()\n\u001B[0;32m     11\u001B[0m nn \u001B[38;5;241m=\u001B[39m create_nn([\u001B[38;5;241m4\u001B[39m, \u001B[38;5;241m5\u001B[39m, \u001B[38;5;241m6\u001B[39m, \u001B[38;5;241m3\u001B[39m], activation_function\u001B[38;5;241m=\u001B[39mactivations, optimizers\u001B[38;5;241m=\u001B[39moptimizers)\n\u001B[1;32m---> 12\u001B[0m train_loss \u001B[38;5;241m=\u001B[39m \u001B[43mtrain\u001B[49m\u001B[43m(\u001B[49m\u001B[43mnn\u001B[49m\u001B[43m,\u001B[49m\u001B[43m \u001B[49m\u001B[43mloss\u001B[49m\u001B[43m,\u001B[49m\u001B[43m \u001B[49m\u001B[43mX_train\u001B[49m\u001B[43m,\u001B[49m\u001B[43m \u001B[49m\u001B[43my_train\u001B[49m\u001B[43m,\u001B[49m\u001B[43m \u001B[49m\u001B[43mepochs\u001B[49m\u001B[38;5;241;43m=\u001B[39;49m\u001B[38;5;241;43m1000\u001B[39;49m\u001B[43m,\u001B[49m\u001B[43m \u001B[49m\u001B[43mbatch_size\u001B[49m\u001B[38;5;241;43m=\u001B[39;49m\u001B[38;5;241;43m12\u001B[39;49m\u001B[43m)\u001B[49m\n",
      "File \u001B[1;32m~\\PycharmProjects\\Neural-Network-OH\\main\\neural_network.py:38\u001B[0m, in \u001B[0;36mtrain\u001B[1;34m(network, loss, x_train, y_train, x_val, y_val, epochs, batch_size)\u001B[0m\n\u001B[0;32m     35\u001B[0m \u001B[38;5;28mprint\u001B[39m(\u001B[38;5;124mf\u001B[39m\u001B[38;5;124m\"\u001B[39m\u001B[38;5;124mGradient Loss Shape: \u001B[39m\u001B[38;5;132;01m{\u001B[39;00mgrad\u001B[38;5;241m.\u001B[39mshape\u001B[38;5;132;01m}\u001B[39;00m\u001B[38;5;124m\"\u001B[39m)\n\u001B[0;32m     37\u001B[0m \u001B[38;5;28;01mfor\u001B[39;00m layer \u001B[38;5;129;01min\u001B[39;00m \u001B[38;5;28mreversed\u001B[39m(network):\n\u001B[1;32m---> 38\u001B[0m     grad \u001B[38;5;241m=\u001B[39m clip_gradient(\u001B[43mlayer\u001B[49m\u001B[38;5;241;43m.\u001B[39;49m\u001B[43mbackward\u001B[49m\u001B[43m(\u001B[49m\u001B[43mgrad\u001B[49m\u001B[43m,\u001B[49m\u001B[43m \u001B[49m\u001B[43me\u001B[49m\u001B[43m,\u001B[49m\u001B[43m \u001B[49m\u001B[43mlayer\u001B[49m\u001B[38;5;241;43m.\u001B[39;49m\u001B[43moptimizer\u001B[49m\u001B[43m)\u001B[49m)\n\u001B[0;32m     39\u001B[0m     \u001B[38;5;28;01mif\u001B[39;00m np\u001B[38;5;241m.\u001B[39many(np\u001B[38;5;241m.\u001B[39misinf(grad)):\n\u001B[0;32m     40\u001B[0m         \u001B[38;5;28mprint\u001B[39m(\u001B[38;5;124m\"\u001B[39m\u001B[38;5;124mGradient is inf\u001B[39m\u001B[38;5;124m\"\u001B[39m)\n",
      "File \u001B[1;32m~\\PycharmProjects\\Neural-Network-OH\\main\\nn_components\\network_layer.py:22\u001B[0m, in \u001B[0;36mFullyConnectedLayer.backward\u001B[1;34m(self, output_gradient, t, optim)\u001B[0m\n\u001B[0;32m     20\u001B[0m \u001B[38;5;28;01mdef\u001B[39;00m \u001B[38;5;21mbackward\u001B[39m(\u001B[38;5;28mself\u001B[39m, output_gradient, t, optim):\n\u001B[1;32m---> 22\u001B[0m     weights_gradient \u001B[38;5;241m=\u001B[39m \u001B[43mweight_gradient_with_batches\u001B[49m\u001B[43m(\u001B[49m\u001B[43moutput_gradient\u001B[49m\u001B[43m,\u001B[49m\u001B[43m \u001B[49m\u001B[38;5;28;43mself\u001B[39;49m\u001B[38;5;241;43m.\u001B[39;49m\u001B[43minput\u001B[49m\u001B[43m)\u001B[49m\n\u001B[0;32m     24\u001B[0m     \u001B[38;5;28mself\u001B[39m\u001B[38;5;241m.\u001B[39mweights, \u001B[38;5;28mself\u001B[39m\u001B[38;5;241m.\u001B[39mbias \u001B[38;5;241m=\u001B[39m optim\u001B[38;5;241m.\u001B[39mupdate(\n\u001B[0;32m     25\u001B[0m         \u001B[38;5;28mself\u001B[39m\u001B[38;5;241m.\u001B[39mweights, \u001B[38;5;28mself\u001B[39m\u001B[38;5;241m.\u001B[39mbias, weights_gradient, output_gradient\n\u001B[0;32m     26\u001B[0m     )\n\u001B[0;32m     28\u001B[0m     propagated_gradient \u001B[38;5;241m=\u001B[39m np\u001B[38;5;241m.\u001B[39mdot(\u001B[38;5;28mself\u001B[39m\u001B[38;5;241m.\u001B[39mweights\u001B[38;5;241m.\u001B[39mT, output_gradient)\n",
      "File \u001B[1;32m~\\PycharmProjects\\Neural-Network-OH\\main\\nn_components\\network_layer.py:62\u001B[0m, in \u001B[0;36mweight_gradient_with_batches\u001B[1;34m(output_gradient, inputs)\u001B[0m\n\u001B[0;32m     58\u001B[0m inputs \u001B[38;5;241m=\u001B[39m inputs\u001B[38;5;241m.\u001B[39mreshape(inputs\u001B[38;5;241m.\u001B[39mshape[\u001B[38;5;241m0\u001B[39m], \u001B[38;5;241m-\u001B[39m\u001B[38;5;241m1\u001B[39m, \u001B[38;5;241m1\u001B[39m)\u001B[38;5;241m.\u001B[39mT\n\u001B[0;32m     60\u001B[0m \u001B[38;5;28mprint\u001B[39m(\u001B[38;5;124mf\u001B[39m\u001B[38;5;124m\"\u001B[39m\u001B[38;5;124mInput Shape: \u001B[39m\u001B[38;5;132;01m{\u001B[39;00minputs\u001B[38;5;241m.\u001B[39mshape\u001B[38;5;132;01m}\u001B[39;00m\u001B[38;5;124m\"\u001B[39m)\n\u001B[1;32m---> 62\u001B[0m output \u001B[38;5;241m=\u001B[39m \u001B[43mnp\u001B[49m\u001B[38;5;241;43m.\u001B[39;49m\u001B[43mmatmul\u001B[49m\u001B[43m(\u001B[49m\u001B[43moutput_gradient\u001B[49m\u001B[43m,\u001B[49m\u001B[43m \u001B[49m\u001B[43minputs\u001B[49m\u001B[43m)\u001B[49m\n\u001B[0;32m     64\u001B[0m weights_gradient \u001B[38;5;241m=\u001B[39m np\u001B[38;5;241m.\u001B[39mmean(output, axis\u001B[38;5;241m=\u001B[39m\u001B[38;5;241m0\u001B[39m)\n\u001B[0;32m     66\u001B[0m \u001B[38;5;28;01mreturn\u001B[39;00m weights_gradient\n",
      "\u001B[1;31mValueError\u001B[0m: matmul: Input operand 1 has a mismatch in its core dimension 0, with gufunc signature (n?,k),(k,m?)->(n?,m?) (size 6 is different from 1)"
     ]
    }
   ],
   "source": [
    "optimizers = [\n",
    "    Adagrad(learning_rate=0.04),\n",
    "    Adagrad(learning_rate=0.07),\n",
    "    Adagrad(learning_rate=0.07)\n",
    "]\n",
    "\n",
    "activations = [LeakyRelu(), LeakyRelu(), LeakyRelu()]\n",
    "\n",
    "loss = CrossEntropyLoss()\n",
    "\n",
    "nn = create_nn([4, 5, 6, 3], activation_function=activations, optimizers=optimizers)\n",
    "train_loss = train(nn, loss, X_train, y_train, epochs=1000, batch_size=12)"
   ],
   "metadata": {
    "collapsed": false,
    "ExecuteTime": {
     "end_time": "2025-01-08T13:02:30.779931Z",
     "start_time": "2025-01-08T13:02:30.322194Z"
    }
   },
   "id": "initial_id",
   "execution_count": 3
  },
  {
   "cell_type": "code",
   "outputs": [
    {
     "name": "stdout",
     "output_type": "stream",
     "text": [
      "Accuracy: 92.11%\n"
     ]
    }
   ],
   "source": [
    "y_true, y_pred = test_nn(nn, x_test=X_test, y_test=y_test)"
   ],
   "metadata": {
    "collapsed": false,
    "ExecuteTime": {
     "end_time": "2025-01-08T07:24:11.618964Z",
     "start_time": "2025-01-08T07:24:11.615190Z"
    }
   },
   "id": "5ebd3f7b9c13ee25",
   "execution_count": 42
  },
  {
   "cell_type": "code",
   "outputs": [
    {
     "data": {
      "text/plain": "<Figure size 1000x600 with 1 Axes>",
      "image/png": "[encoded data removed]"
     },
     "metadata": {},
     "output_type": "display_data"
    }
   ],
   "source": [
    "learning_curve(train_loss)"
   ],
   "metadata": {
    "collapsed": false,
    "ExecuteTime": {
     "end_time": "2025-01-08T07:24:11.698760Z",
     "start_time": "2025-01-08T07:24:11.619969Z"
    }
   },
   "id": "5831aa89444651b5",
   "execution_count": 43
  },
  {
   "cell_type": "code",
   "outputs": [
    {
     "data": {
      "text/plain": "<Figure size 640x480 with 2 Axes>",
      "image/png": "[encoded data removed]"
     },
     "metadata": {},
     "output_type": "display_data"
    }
   ],
   "source": [
    "display_confusion_matrix(y_true, y_pred, ['Setosa', 'Versicolor', 'Virginica'], title='Matriz de Confusion Problema Iris')"
   ],
   "metadata": {
    "collapsed": false,
    "ExecuteTime": {
     "end_time": "2025-01-08T07:22:03.056632Z",
     "start_time": "2025-01-08T07:22:02.969178Z"
    }
   },
   "id": "715588aef13326f6",
   "execution_count": 19
  },
  {
   "cell_type": "markdown",
   "source": [
    "# Experimentos Previos\n",
    "\n",
    "### Test1"
   ],
   "metadata": {
    "collapsed": false
   },
   "id": "9cef3abcca9a1331"
  },
  {
   "cell_type": "code",
   "outputs": [],
   "source": [
    "optimizers = [\n",
    "    SGD(learning_rate=0.03),\n",
    "    SGD(learning_rate=0.03),\n",
    "    SGD(learning_rate=0.03)\n",
    "]\n",
    "\n",
    "activations = [Tanh(), Tanh(), Tanh()]\n",
    "\n",
    "loss = CrossEntropyLoss()\n",
    "\n",
    "nn = create_nn([4, 6, 4, 3], activation_function=activations, optimizers=optimizers)"
   ],
   "metadata": {
    "collapsed": false,
    "ExecuteTime": {
     "end_time": "2025-01-08T07:22:58.023652Z",
     "start_time": "2025-01-08T07:22:58.019651Z"
    }
   },
   "id": "8360b181d1aaada3",
   "execution_count": 32
  },
  {
   "cell_type": "code",
   "outputs": [
    {
     "name": "stdout",
     "output_type": "stream",
     "text": [
      "Final Loss = 0.04450848962142867\n"
     ]
    }
   ],
   "source": [
    "_ = train(nn, loss, X_train, y_train, epochs=1000)"
   ],
   "metadata": {
    "collapsed": false
   },
   "id": "4849cb51a6cc92bb",
   "execution_count": 33
  },
  {
   "cell_type": "code",
   "outputs": [
    {
     "name": "stdout",
     "output_type": "stream",
     "text": [
      "Accuracy: 89.47%\n"
     ]
    }
   ],
   "source": [
    "_, _ = test_nn(nn, x_test=X_test, y_test=y_test)"
   ],
   "metadata": {
    "collapsed": false,
    "ExecuteTime": {
     "end_time": "2025-01-08T07:23:06.168218Z",
     "start_time": "2025-01-08T07:23:06.164035Z"
    }
   },
   "id": "26ebdc9cc6ee58d1",
   "execution_count": 34
  },
  {
   "cell_type": "markdown",
   "source": [
    "### Test2"
   ],
   "metadata": {
    "collapsed": false
   },
   "id": "dd57841b2affc0c7"
  },
  {
   "cell_type": "code",
   "outputs": [],
   "source": [
    "optimizers = [\n",
    "    RMSProp(learning_rate=0.02),\n",
    "    RMSProp(learning_rate=0.02),\n",
    "    RMSProp(learning_rate=0.02),\n",
    "    RMSProp(learning_rate=0.02)\n",
    "]\n",
    "\n",
    "activations = [Tanh(), Tanh(), Tanh(), Tanh()]\n",
    "\n",
    "loss = CrossEntropyLoss()\n",
    "\n",
    "nn = create_nn([4, 10, 8, 4, 3], activation_function=activations, optimizers=optimizers)"
   ],
   "metadata": {
    "collapsed": false,
    "ExecuteTime": {
     "end_time": "2025-01-08T07:23:06.173222Z",
     "start_time": "2025-01-08T07:23:06.168218Z"
    }
   },
   "id": "191244459fdc9d36",
   "execution_count": 35
  },
  {
   "cell_type": "code",
   "outputs": [
    {
     "name": "stdout",
     "output_type": "stream",
     "text": [
      "Final Loss = 0.35577569221930244\n"
     ]
    }
   ],
   "source": [
    "_ = train(nn, loss, X_train, y_train, epochs=1000)"
   ],
   "metadata": {
    "collapsed": false
   },
   "id": "5ff80ac834c4b6a6",
   "execution_count": 36
  },
  {
   "cell_type": "code",
   "outputs": [
    {
     "name": "stdout",
     "output_type": "stream",
     "text": [
      "Accuracy: 86.84%\n"
     ]
    }
   ],
   "source": [
    "_, _ = test_nn(nn, x_test=X_test, y_test=y_test)"
   ],
   "metadata": {
    "collapsed": false,
    "ExecuteTime": {
     "end_time": "2025-01-08T07:23:18.402597Z",
     "start_time": "2025-01-08T07:23:18.398597Z"
    }
   },
   "id": "f3ed309a70707c7",
   "execution_count": 37
  },
  {
   "cell_type": "markdown",
   "source": [
    "### Test3"
   ],
   "metadata": {
    "collapsed": false
   },
   "id": "e39ca3850d13090b"
  },
  {
   "cell_type": "code",
   "outputs": [],
   "source": [
    "optimizers = [\n",
    "    Momentum(learning_rate=0.01),\n",
    "    Adagrad(learning_rate=0.02)\n",
    "]\n",
    "\n",
    "activations = [Sigmoid(), Tanh()]\n",
    "\n",
    "loss = CrossEntropyLoss()\n",
    "\n",
    "nn = create_nn([4, 6, 3], activation_function=activations, optimizers=optimizers)"
   ],
   "metadata": {
    "collapsed": false,
    "ExecuteTime": {
     "end_time": "2025-01-08T07:25:01.318263Z",
     "start_time": "2025-01-08T07:25:01.314330Z"
    }
   },
   "id": "55040a0f50733b44",
   "execution_count": 53
  },
  {
   "cell_type": "code",
   "outputs": [
    {
     "name": "stdout",
     "output_type": "stream",
     "text": [
      "Final Loss = 0.08482302334458135\n"
     ]
    }
   ],
   "source": [
    "_ = train(nn, loss, X_train, y_train, epochs=1000)"
   ],
   "metadata": {
    "collapsed": false
   },
   "id": "2ac80c513599cdaf",
   "execution_count": 54
  },
  {
   "cell_type": "code",
   "outputs": [
    {
     "name": "stdout",
     "output_type": "stream",
     "text": [
      "Accuracy: 92.11%\n"
     ]
    }
   ],
   "source": [
    "_, _ = test_nn(nn, x_test=X_test, y_test=y_test)"
   ],
   "metadata": {
    "collapsed": false,
    "ExecuteTime": {
     "end_time": "2025-01-08T07:25:08.938366Z",
     "start_time": "2025-01-08T07:25:08.933771Z"
    }
   },
   "id": "9edbae7d3c3938a7",
   "execution_count": 55
  },
  {
   "cell_type": "markdown",
   "source": [
    "### Test4"
   ],
   "metadata": {
    "collapsed": false
   },
   "id": "3e57f328d2649aaf"
  },
  {
   "cell_type": "code",
   "outputs": [],
   "source": [
    "optimizers = [\n",
    "    Adagrad(learning_rate=0.002)\n",
    "]\n",
    "\n",
    "activations = [Relu()]\n",
    "\n",
    "loss = CrossEntropyLoss()\n",
    "\n",
    "nn = create_nn([4, 3], activation_function=activations, optimizers=optimizers)"
   ],
   "metadata": {
    "collapsed": false,
    "ExecuteTime": {
     "end_time": "2025-01-08T07:29:27.582255Z",
     "start_time": "2025-01-08T07:29:27.578254Z"
    }
   },
   "id": "69ae0bbd5fa928f6",
   "execution_count": 56
  },
  {
   "cell_type": "code",
   "outputs": [
    {
     "name": "stdout",
     "output_type": "stream",
     "text": [
      "Final Loss = 23.592247973794418\n"
     ]
    }
   ],
   "source": [
    "_ = train(nn, loss, X_train, y_train, epochs=1000)"
   ],
   "metadata": {
    "collapsed": false
   },
   "id": "720fa1d6fb00bcc4",
   "execution_count": 57
  },
  {
   "cell_type": "code",
   "outputs": [
    {
     "name": "stdout",
     "output_type": "stream",
     "text": [
      "Accuracy: 39.47%\n"
     ]
    }
   ],
   "source": [
    "_, _ = test_nn(nn, x_test=X_test, y_test=y_test)"
   ],
   "metadata": {
    "collapsed": false,
    "ExecuteTime": {
     "end_time": "2025-01-08T07:29:32.796004Z",
     "start_time": "2025-01-08T07:29:32.792595Z"
    }
   },
   "id": "2f96aa1014446ec7",
   "execution_count": 58
  }
 ],
 "metadata": {
  "kernelspec": {
   "display_name": "Python 3",
   "language": "python",
   "name": "python3"
  },
  "language_info": {
   "codemirror_mode": {
    "name": "ipython",
    "version": 2
   },
   "file_extension": ".py",
   "mimetype": "text/x-python",
   "name": "python",
   "nbconvert_exporter": "python",
   "pygments_lexer": "ipython2",
   "version": "2.7.6"
  }
 },
 "nbformat": 4,
 "nbformat_minor": 5
}
