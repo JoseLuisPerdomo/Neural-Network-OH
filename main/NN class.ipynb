{
 "cells": [
  {
   "cell_type": "markdown",
   "source": [
    "# Neural Network Engine\n",
    "\n",
    "We are going to explore the following topics in these notebooks:\n",
    "-Our implementation of the Neural Network and how it works.\n",
    "-Test it´s functionality with several datasets.\n",
    "-Discuss the results given by the class."
   ],
   "metadata": {
    "collapsed": false
   },
   "id": "cc72e8a8570745d3"
  },
  {
   "cell_type": "markdown",
   "source": [
    "## Creation of an instance\n",
    "\n",
    "The source code is in the nn_class.py file.\n",
    "It can create as many layers and neurons as wanted."
   ],
   "metadata": {
    "collapsed": false
   },
   "id": "aa5f8077a7ef642c"
  },
  {
   "cell_type": "code",
   "outputs": [
    {
     "name": "stdout",
     "output_type": "stream",
     "text": [
      "Number of layers in the network: 0\n"
     ]
    }
   ],
   "source": [
    "from main.nn_class import NeuralNetwork\n",
    "from nn_components.draw_nn import draw_nn\n",
    "\n",
    "nn1 = NeuralNetwork([2, 8, 5])\n",
    "print(f\"Number of layers in the network: {len(nn1.network)}\")\n",
    "for i in range(len(nn1.network)):\n",
    "    for j in range(len(nn1.network[i])):\n",
    "        print(f\"Number of Input in neuron {j} in the network: {nn1.network[i][j].inputs}\")"
   ],
   "metadata": {
    "collapsed": false,
    "ExecuteTime": {
     "end_time": "2024-10-26T18:11:47.873791Z",
     "start_time": "2024-10-26T18:11:47.868778Z"
    }
   },
   "id": "e9f3cc1ce5d6590c",
   "execution_count": 28
  },
  {
   "cell_type": "code",
   "outputs": [],
   "source": [],
   "metadata": {
    "collapsed": false
   },
   "id": "b66d3555d00369dc"
  }
 ],
 "metadata": {
  "kernelspec": {
   "display_name": "Python 3",
   "language": "python",
   "name": "python3"
  },
  "language_info": {
   "codemirror_mode": {
    "name": "ipython",
    "version": 2
   },
   "file_extension": ".py",
   "mimetype": "text/x-python",
   "name": "python",
   "nbconvert_exporter": "python",
   "pygments_lexer": "ipython2",
   "version": "2.7.6"
  }
 },
 "nbformat": 4,
 "nbformat_minor": 5
}
